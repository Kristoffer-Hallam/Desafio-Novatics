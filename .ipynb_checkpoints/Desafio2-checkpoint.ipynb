{
 "cells": [
  {
   "cell_type": "markdown",
   "id": "fa44bb7c",
   "metadata": {},
   "source": [
    "## Teste de importação do arquivo conversion_kudo.py\n",
    "\n",
    "Este notebook serviu apenas de teste para a importação do arquivo.py citado.\n",
    "\n",
    "Caso seja de interesse rodar o arquivo conversion_kudo.py numa IDE, se faz necessário adicionar o conteúdo das células abaixo na parte de testes."
   ]
  },
  {
   "cell_type": "code",
   "execution_count": 1,
   "id": "1145e384",
   "metadata": {},
   "outputs": [],
   "source": [
    "from conversion_kudo import KudoConversion"
   ]
  },
  {
   "cell_type": "code",
   "execution_count": 2,
   "id": "2393355f",
   "metadata": {},
   "outputs": [
    {
     "name": "stdout",
     "output_type": "stream",
     "text": [
      "Ana Martis recebeu R$ 92.00 reais em retorno aos kudos ['SUPER', 'SUPER', 'SUPER', 'GREAT', 'OK']!\n",
      "Miguel Araújo recebeu R$ 63.00 reais em retorno aos kudos ['SUPER', 'SUPER', 'GOOD', 'NICE']!\n",
      "Hugo Rocha recebeu R$ 107.00 reais em retorno aos kudos ['SUPER', 'SUPER', 'SUPER', 'SUPER', 'NICE', 'OK']!\n",
      "Fernanda Rodrigues recebeu R$ 75.00 reais em retorno aos kudos ['SUPER', 'SUPER', 'GREAT', 'GOOD', 'OK']!\n",
      "Milena Alvez recebeu R$ 55.00 reais em retorno aos kudos ['SUPER', 'GREAT', 'GOOD', 'NICE', 'OK']!\n",
      "Lucas Ramos recebeu R$ 125.00 reais em retorno aos kudos ['SUPER', 'SUPER', 'SUPER', 'SUPER', 'SUPER']!\n"
     ]
    }
   ],
   "source": [
    "convert_Ana = KudoConversion('Ana Martis', 355)\n",
    "convert_Miguel = KudoConversion('Miguel Araújo', 232)\n",
    "convert_Hugo = KudoConversion('Hugo Rocha', 416)\n",
    "convert_Fernanda = KudoConversion('Fernanda Rodrigues', 278)\n",
    "convert_Milena = KudoConversion('Milena Alvez', 189)\n",
    "convert_Lucas = KudoConversion('Lucas Ramos', 501)\n",
    "convert_ = KudoConversion('Lucas Ramos', 501, True)\n",
    "convert_ = KudoConversion('Lucas Ramos', 501, True)\n",
    "convert_Ana.analyse_points()\n",
    "convert_Miguel.analyse_points()\n",
    "convert_Hugo.analyse_points()\n",
    "convert_Fernanda.analyse_points()\n",
    "convert_Milena.analyse_points()\n",
    "convert_Lucas.analyse_points()"
   ]
  }
 ],
 "metadata": {
  "kernelspec": {
   "display_name": "Python 3 (ipykernel)",
   "language": "python",
   "name": "python3"
  },
  "language_info": {
   "codemirror_mode": {
    "name": "ipython",
    "version": 3
   },
   "file_extension": ".py",
   "mimetype": "text/x-python",
   "name": "python",
   "nbconvert_exporter": "python",
   "pygments_lexer": "ipython3",
   "version": "3.9.7"
  }
 },
 "nbformat": 4,
 "nbformat_minor": 5
}
