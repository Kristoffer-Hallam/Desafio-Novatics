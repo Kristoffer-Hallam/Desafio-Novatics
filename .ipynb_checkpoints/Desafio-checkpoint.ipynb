{
 "cells": [
  {
   "cell_type": "markdown",
   "id": "3dd053a0",
   "metadata": {},
   "source": [
    "## Problema\n",
    "\n",
    "Uma empresa tem um programa de incentivoque converte kudos para um valor em reais que é repassado ao colaborador. Funciona assim:\n",
    "\n",
    "> Os colaboradores podem receber pontos em retribuição a uma tarefa e/ou projeto executado  \n",
    "> Os pontos são convertidos para kudos que ficam registrados no histórico do colaborador  \n",
    "> Os kudos são convertidos para um valor em reais que será pago ao colaborador\n",
    "\n",
    "Depois de feita a conversão dos ckudos para o valor em reais, a empresa envia uma mensagem de agradecimento para o colaborador.\n",
    "\n",
    "### Objetivos\n",
    "\n",
    "- Converter um conjunto de pontos recebidos por uma pessoa para um conjunto de kudos. Requisitos:  \n",
    "* A conversão deve ser feita de modo a retornar o menor número possível de kudos (retornando um conjunto de kudos de maior valor possível)  \n",
    "* O conjunto de kudos convertidos deve ser retornado em ordem decrescente. Esse conjunto pode conter kudos repetidos  \n",
    "* Para esse problema você pode esperar que o número de pontos de uma pessoa será sempre divisível pelo conjunto de kudos  \n",
    "- Converter um conjunto de kudos para uma mensagem contendo o valor em reais por extenso dos kudos recebidos.  \n",
    "> A mensagem deve ter o seguinte formato:  \n",
    ">> \"Você recebeu {valor por extenso} reais em retorno aos kudos {lista de kudos separada por vígula}!\"  <br>\n",
    "\n",
    "> O valor será sempre menor que 1 milhão de reais"
   ]
  },
  {
   "cell_type": "code",
   "execution_count": 1,
   "id": "0cabe00b",
   "metadata": {},
   "outputs": [],
   "source": [
    "class KudoConversion:\n",
    "    ''' Classe que faz a conversão de kudos em valores monetários. Para iniciar, entre com os\n",
    "        seguintes parâmetros:\n",
    "        \n",
    "        input >\n",
    "        name:     string   -> Nome do funcionário\n",
    "        points:   int      -> Número que indica a quantidade de pontos recebida pelo funcionário\n",
    "        log:      bool     -> Se True mostra o log referente às iterações das análise dos pontos\n",
    "                                recebido pelo funcionário. Default = False, ou seja, não mostrar.\n",
    "\n",
    "        Exemplo de funcionamento:\n",
    "        1- Criar a instância da classe com argumentos name e points na ordem a seguir\n",
    "        \n",
    "            > convert_Ana('Ana', 350)\n",
    "                -> dessa forma a instância terá convert_Ana.name = 'Ana' e convert_Ana.points = 350\n",
    "                \n",
    "            É possível também usar da seguinte forma:\n",
    "            \n",
    "            > convert_Ana(points=350, name='Ana')\n",
    "                -> teremos o mesmo resultado acima assinalado\n",
    "        2- Uma vez que a instância esteja criada, devemos apenas aplicar o método analyse_points à ela:\n",
    "            \n",
    "            > convert_Ana.analyse_points()\n",
    "                -> cujo resultado é:\n",
    "                \n",
    "                Ana Martis recebeu R$ 92.00 reais em retorno aos kudos ['SUPER', 'SUPER', 'SUPER', 'GREAT', 'OK']!\n",
    "    '''\n",
    "    def __init__(self, name, points, log=False):\n",
    "        assert type(name) == str, 'Argumento name deve ser uma string!'\n",
    "        assert type(points) == int, 'Argumento points deve ser um número inteiro!'\n",
    "        assert type(log) == bool, 'Argumento log deve ser objeto booleano!'\n",
    "        self.name = name\n",
    "        self.points = points\n",
    "        self.log = log\n",
    "        \n",
    "    def generate_conversion_list(self):\n",
    "        self.kudos_list = [\"SUPER\", \"GREAT\", \"GOOD\", \"NICE\", \"OK\"]\n",
    "        self.points_list = [100, 50, 20, 10, 5]\n",
    "        self.cash_list = [25, 15, 8, 5, 2]\n",
    "        self.kudo_dic = {}\n",
    "        for key, kudo, cash in zip(self.points_list, self.kudos_list, self.cash_list):\n",
    "            self.kudo_dic.update({key: (kudo, cash)})\n",
    "    \n",
    "    def analyse_points(self):\n",
    "        self.generate_conversion_list()\n",
    "        msg = []\n",
    "        value = 0\n",
    "        while self.points >= min(self.kudo_dic.keys()):\n",
    "            if self.points >= max(self.kudo_dic.keys()):\n",
    "                msg.append(self.kudo_dic[max(self.kudo_dic.keys())][0])\n",
    "                value += self.kudo_dic[max(self.kudo_dic.keys())][1]\n",
    "                if self.log == True:\n",
    "                    print(f'+++++++ {self.name} +++++++')\n",
    "                    print('points =', self.points)\n",
    "                    print('Max kudos =', self.kudo_dic.keys())\n",
    "                    print('message = ', msg)\n",
    "                    print('----------------')\n",
    "                self.points -= max(self.kudo_dic.keys())\n",
    "            else:\n",
    "                self.kudo_dic.pop(max(self.kudo_dic.keys()))\n",
    "        print(f\"{self.name} recebeu R$ {value:,.2f} reais em retorno aos kudos {msg}!\")"
   ]
  },
  {
   "cell_type": "code",
   "execution_count": 2,
   "id": "0865d385",
   "metadata": {},
   "outputs": [],
   "source": [
    "convert_Ana = KudoConversion('Ana Martis', 355)\n",
    "convert_Miguel = KudoConversion('Miguel Araújo', 232)\n",
    "convert_Hugo = KudoConversion('Hugo Rocha', 416)\n",
    "convert_Fernanda = KudoConversion('Fernanda Rodrigues', 278)\n",
    "convert_Milena = KudoConversion('Milena Alvez', 189)\n",
    "convert_Lucas = KudoConversion('Lucas Ramos', 501)\n",
    "convert_ = KudoConversion('Lucas Ramos', 501, True)\n",
    "convert_ = KudoConversion('Lucas Ramos', 501, True)"
   ]
  },
  {
   "cell_type": "code",
   "execution_count": 3,
   "id": "ab73809e",
   "metadata": {},
   "outputs": [
    {
     "name": "stdout",
     "output_type": "stream",
     "text": [
      "Ana Martis recebeu R$ 92.00 reais em retorno aos kudos ['SUPER', 'SUPER', 'SUPER', 'GREAT', 'OK']!\n",
      "Miguel Araújo recebeu R$ 63.00 reais em retorno aos kudos ['SUPER', 'SUPER', 'GOOD', 'NICE']!\n",
      "Hugo Rocha recebeu R$ 107.00 reais em retorno aos kudos ['SUPER', 'SUPER', 'SUPER', 'SUPER', 'NICE', 'OK']!\n",
      "Fernanda Rodrigues recebeu R$ 75.00 reais em retorno aos kudos ['SUPER', 'SUPER', 'GREAT', 'GOOD', 'OK']!\n",
      "Milena Alvez recebeu R$ 55.00 reais em retorno aos kudos ['SUPER', 'GREAT', 'GOOD', 'NICE', 'OK']!\n",
      "+++++++ Lucas Ramos +++++++\n",
      "points = 501\n",
      "Max kudos = dict_keys([100, 50, 20, 10, 5])\n",
      "message =  ['SUPER']\n",
      "----------------\n",
      "+++++++ Lucas Ramos +++++++\n",
      "points = 401\n",
      "Max kudos = dict_keys([100, 50, 20, 10, 5])\n",
      "message =  ['SUPER', 'SUPER']\n",
      "----------------\n",
      "+++++++ Lucas Ramos +++++++\n",
      "points = 301\n",
      "Max kudos = dict_keys([100, 50, 20, 10, 5])\n",
      "message =  ['SUPER', 'SUPER', 'SUPER']\n",
      "----------------\n",
      "+++++++ Lucas Ramos +++++++\n",
      "points = 201\n",
      "Max kudos = dict_keys([100, 50, 20, 10, 5])\n",
      "message =  ['SUPER', 'SUPER', 'SUPER', 'SUPER']\n",
      "----------------\n",
      "+++++++ Lucas Ramos +++++++\n",
      "points = 101\n",
      "Max kudos = dict_keys([100, 50, 20, 10, 5])\n",
      "message =  ['SUPER', 'SUPER', 'SUPER', 'SUPER', 'SUPER']\n",
      "----------------\n",
      "Lucas Ramos recebeu R$ 125.00 reais em retorno aos kudos ['SUPER', 'SUPER', 'SUPER', 'SUPER', 'SUPER']!\n"
     ]
    }
   ],
   "source": [
    "convert_Ana.analyse_points()\n",
    "convert_Miguel.analyse_points()\n",
    "convert_Hugo.analyse_points()\n",
    "convert_Fernanda.analyse_points()\n",
    "convert_Milena.analyse_points()\n",
    "convert_Lucas.analyse_points()"
   ]
  },
  {
   "cell_type": "code",
   "execution_count": 4,
   "id": "cf48105e",
   "metadata": {},
   "outputs": [
    {
     "ename": "AssertionError",
     "evalue": "Argumento name deve ser uma string!",
     "output_type": "error",
     "traceback": [
      "\u001b[0;31m---------------------------------------------------------------------------\u001b[0m",
      "\u001b[0;31mAssertionError\u001b[0m                            Traceback (most recent call last)",
      "\u001b[0;32m/var/folders/xt/qpy7_yjd7_g89yx6hv6669gw0000gn/T/ipykernel_20819/1281968255.py\u001b[0m in \u001b[0;36m<module>\u001b[0;34m\u001b[0m\n\u001b[1;32m      1\u001b[0m \u001b[0;31m# Testando asserts\u001b[0m\u001b[0;34m\u001b[0m\u001b[0;34m\u001b[0m\u001b[0m\n\u001b[0;32m----> 2\u001b[0;31m \u001b[0mconvert_Ana\u001b[0m \u001b[0;34m=\u001b[0m \u001b[0mKudoConversion\u001b[0m\u001b[0;34m(\u001b[0m\u001b[0;36m50\u001b[0m\u001b[0;34m,\u001b[0m \u001b[0;36m355\u001b[0m\u001b[0;34m)\u001b[0m\u001b[0;34m\u001b[0m\u001b[0;34m\u001b[0m\u001b[0m\n\u001b[0m",
      "\u001b[0;32m/var/folders/xt/qpy7_yjd7_g89yx6hv6669gw0000gn/T/ipykernel_20819/142629085.py\u001b[0m in \u001b[0;36m__init__\u001b[0;34m(self, name, points, log)\u001b[0m\n\u001b[1;32m     26\u001b[0m     '''\n\u001b[1;32m     27\u001b[0m     \u001b[0;32mdef\u001b[0m \u001b[0m__init__\u001b[0m\u001b[0;34m(\u001b[0m\u001b[0mself\u001b[0m\u001b[0;34m,\u001b[0m \u001b[0mname\u001b[0m\u001b[0;34m,\u001b[0m \u001b[0mpoints\u001b[0m\u001b[0;34m,\u001b[0m \u001b[0mlog\u001b[0m\u001b[0;34m=\u001b[0m\u001b[0;32mFalse\u001b[0m\u001b[0;34m)\u001b[0m\u001b[0;34m:\u001b[0m\u001b[0;34m\u001b[0m\u001b[0;34m\u001b[0m\u001b[0m\n\u001b[0;32m---> 28\u001b[0;31m         \u001b[0;32massert\u001b[0m \u001b[0mtype\u001b[0m\u001b[0;34m(\u001b[0m\u001b[0mname\u001b[0m\u001b[0;34m)\u001b[0m \u001b[0;34m==\u001b[0m \u001b[0mstr\u001b[0m\u001b[0;34m,\u001b[0m \u001b[0;34m'Argumento name deve ser uma string!'\u001b[0m\u001b[0;34m\u001b[0m\u001b[0;34m\u001b[0m\u001b[0m\n\u001b[0m\u001b[1;32m     29\u001b[0m         \u001b[0;32massert\u001b[0m \u001b[0mtype\u001b[0m\u001b[0;34m(\u001b[0m\u001b[0mpoints\u001b[0m\u001b[0;34m)\u001b[0m \u001b[0;34m==\u001b[0m \u001b[0mint\u001b[0m\u001b[0;34m,\u001b[0m \u001b[0;34m'Argumento points deve ser um número inteiro!'\u001b[0m\u001b[0;34m\u001b[0m\u001b[0;34m\u001b[0m\u001b[0m\n\u001b[1;32m     30\u001b[0m         \u001b[0;32massert\u001b[0m \u001b[0mtype\u001b[0m\u001b[0;34m(\u001b[0m\u001b[0mlog\u001b[0m\u001b[0;34m)\u001b[0m \u001b[0;34m==\u001b[0m \u001b[0mbool\u001b[0m\u001b[0;34m,\u001b[0m \u001b[0;34m'Argumento log deve ser objeto booleano!'\u001b[0m\u001b[0;34m\u001b[0m\u001b[0;34m\u001b[0m\u001b[0m\n",
      "\u001b[0;31mAssertionError\u001b[0m: Argumento name deve ser uma string!"
     ]
    }
   ],
   "source": [
    "# Testando asserts\n",
    "convert_Ana = KudoConversion(50, 355)"
   ]
  },
  {
   "cell_type": "code",
   "execution_count": 5,
   "id": "f1f2fc89",
   "metadata": {},
   "outputs": [
    {
     "ename": "AssertionError",
     "evalue": "Argumento points deve ser um número inteiro!",
     "output_type": "error",
     "traceback": [
      "\u001b[0;31m---------------------------------------------------------------------------\u001b[0m",
      "\u001b[0;31mAssertionError\u001b[0m                            Traceback (most recent call last)",
      "\u001b[0;32m/var/folders/xt/qpy7_yjd7_g89yx6hv6669gw0000gn/T/ipykernel_20819/1990317967.py\u001b[0m in \u001b[0;36m<module>\u001b[0;34m\u001b[0m\n\u001b[1;32m      1\u001b[0m \u001b[0;31m# Testando asserts\u001b[0m\u001b[0;34m\u001b[0m\u001b[0;34m\u001b[0m\u001b[0m\n\u001b[0;32m----> 2\u001b[0;31m \u001b[0mconvert_Ana\u001b[0m \u001b[0;34m=\u001b[0m \u001b[0mKudoConversion\u001b[0m\u001b[0;34m(\u001b[0m\u001b[0;34m'Ana'\u001b[0m\u001b[0;34m,\u001b[0m \u001b[0;36m355.0\u001b[0m\u001b[0;34m)\u001b[0m\u001b[0;34m\u001b[0m\u001b[0;34m\u001b[0m\u001b[0m\n\u001b[0m",
      "\u001b[0;32m/var/folders/xt/qpy7_yjd7_g89yx6hv6669gw0000gn/T/ipykernel_20819/142629085.py\u001b[0m in \u001b[0;36m__init__\u001b[0;34m(self, name, points, log)\u001b[0m\n\u001b[1;32m     27\u001b[0m     \u001b[0;32mdef\u001b[0m \u001b[0m__init__\u001b[0m\u001b[0;34m(\u001b[0m\u001b[0mself\u001b[0m\u001b[0;34m,\u001b[0m \u001b[0mname\u001b[0m\u001b[0;34m,\u001b[0m \u001b[0mpoints\u001b[0m\u001b[0;34m,\u001b[0m \u001b[0mlog\u001b[0m\u001b[0;34m=\u001b[0m\u001b[0;32mFalse\u001b[0m\u001b[0;34m)\u001b[0m\u001b[0;34m:\u001b[0m\u001b[0;34m\u001b[0m\u001b[0;34m\u001b[0m\u001b[0m\n\u001b[1;32m     28\u001b[0m         \u001b[0;32massert\u001b[0m \u001b[0mtype\u001b[0m\u001b[0;34m(\u001b[0m\u001b[0mname\u001b[0m\u001b[0;34m)\u001b[0m \u001b[0;34m==\u001b[0m \u001b[0mstr\u001b[0m\u001b[0;34m,\u001b[0m \u001b[0;34m'Argumento name deve ser uma string!'\u001b[0m\u001b[0;34m\u001b[0m\u001b[0;34m\u001b[0m\u001b[0m\n\u001b[0;32m---> 29\u001b[0;31m         \u001b[0;32massert\u001b[0m \u001b[0mtype\u001b[0m\u001b[0;34m(\u001b[0m\u001b[0mpoints\u001b[0m\u001b[0;34m)\u001b[0m \u001b[0;34m==\u001b[0m \u001b[0mint\u001b[0m\u001b[0;34m,\u001b[0m \u001b[0;34m'Argumento points deve ser um número inteiro!'\u001b[0m\u001b[0;34m\u001b[0m\u001b[0;34m\u001b[0m\u001b[0m\n\u001b[0m\u001b[1;32m     30\u001b[0m         \u001b[0;32massert\u001b[0m \u001b[0mtype\u001b[0m\u001b[0;34m(\u001b[0m\u001b[0mlog\u001b[0m\u001b[0;34m)\u001b[0m \u001b[0;34m==\u001b[0m \u001b[0mbool\u001b[0m\u001b[0;34m,\u001b[0m \u001b[0;34m'Argumento log deve ser objeto booleano!'\u001b[0m\u001b[0;34m\u001b[0m\u001b[0;34m\u001b[0m\u001b[0m\n\u001b[1;32m     31\u001b[0m         \u001b[0mself\u001b[0m\u001b[0;34m.\u001b[0m\u001b[0mname\u001b[0m \u001b[0;34m=\u001b[0m \u001b[0mname\u001b[0m\u001b[0;34m\u001b[0m\u001b[0;34m\u001b[0m\u001b[0m\n",
      "\u001b[0;31mAssertionError\u001b[0m: Argumento points deve ser um número inteiro!"
     ]
    }
   ],
   "source": [
    "# Testando asserts\n",
    "convert_Ana = KudoConversion('Ana', 355.0)"
   ]
  },
  {
   "cell_type": "code",
   "execution_count": 6,
   "id": "d37b1dfd",
   "metadata": {},
   "outputs": [
    {
     "ename": "AssertionError",
     "evalue": "Argumento points deve ser um número inteiro!",
     "output_type": "error",
     "traceback": [
      "\u001b[0;31m---------------------------------------------------------------------------\u001b[0m",
      "\u001b[0;31mAssertionError\u001b[0m                            Traceback (most recent call last)",
      "\u001b[0;32m/var/folders/xt/qpy7_yjd7_g89yx6hv6669gw0000gn/T/ipykernel_20819/3899524770.py\u001b[0m in \u001b[0;36m<module>\u001b[0;34m\u001b[0m\n\u001b[1;32m      1\u001b[0m \u001b[0;31m# Testando asserts\u001b[0m\u001b[0;34m\u001b[0m\u001b[0;34m\u001b[0m\u001b[0m\n\u001b[0;32m----> 2\u001b[0;31m \u001b[0mconvert_Ana\u001b[0m \u001b[0;34m=\u001b[0m \u001b[0mKudoConversion\u001b[0m\u001b[0;34m(\u001b[0m\u001b[0;34m'Ana'\u001b[0m\u001b[0;34m,\u001b[0m \u001b[0;34m'Martis'\u001b[0m\u001b[0;34m)\u001b[0m\u001b[0;34m\u001b[0m\u001b[0;34m\u001b[0m\u001b[0m\n\u001b[0m",
      "\u001b[0;32m/var/folders/xt/qpy7_yjd7_g89yx6hv6669gw0000gn/T/ipykernel_20819/142629085.py\u001b[0m in \u001b[0;36m__init__\u001b[0;34m(self, name, points, log)\u001b[0m\n\u001b[1;32m     27\u001b[0m     \u001b[0;32mdef\u001b[0m \u001b[0m__init__\u001b[0m\u001b[0;34m(\u001b[0m\u001b[0mself\u001b[0m\u001b[0;34m,\u001b[0m \u001b[0mname\u001b[0m\u001b[0;34m,\u001b[0m \u001b[0mpoints\u001b[0m\u001b[0;34m,\u001b[0m \u001b[0mlog\u001b[0m\u001b[0;34m=\u001b[0m\u001b[0;32mFalse\u001b[0m\u001b[0;34m)\u001b[0m\u001b[0;34m:\u001b[0m\u001b[0;34m\u001b[0m\u001b[0;34m\u001b[0m\u001b[0m\n\u001b[1;32m     28\u001b[0m         \u001b[0;32massert\u001b[0m \u001b[0mtype\u001b[0m\u001b[0;34m(\u001b[0m\u001b[0mname\u001b[0m\u001b[0;34m)\u001b[0m \u001b[0;34m==\u001b[0m \u001b[0mstr\u001b[0m\u001b[0;34m,\u001b[0m \u001b[0;34m'Argumento name deve ser uma string!'\u001b[0m\u001b[0;34m\u001b[0m\u001b[0;34m\u001b[0m\u001b[0m\n\u001b[0;32m---> 29\u001b[0;31m         \u001b[0;32massert\u001b[0m \u001b[0mtype\u001b[0m\u001b[0;34m(\u001b[0m\u001b[0mpoints\u001b[0m\u001b[0;34m)\u001b[0m \u001b[0;34m==\u001b[0m \u001b[0mint\u001b[0m\u001b[0;34m,\u001b[0m \u001b[0;34m'Argumento points deve ser um número inteiro!'\u001b[0m\u001b[0;34m\u001b[0m\u001b[0;34m\u001b[0m\u001b[0m\n\u001b[0m\u001b[1;32m     30\u001b[0m         \u001b[0;32massert\u001b[0m \u001b[0mtype\u001b[0m\u001b[0;34m(\u001b[0m\u001b[0mlog\u001b[0m\u001b[0;34m)\u001b[0m \u001b[0;34m==\u001b[0m \u001b[0mbool\u001b[0m\u001b[0;34m,\u001b[0m \u001b[0;34m'Argumento log deve ser objeto booleano!'\u001b[0m\u001b[0;34m\u001b[0m\u001b[0;34m\u001b[0m\u001b[0m\n\u001b[1;32m     31\u001b[0m         \u001b[0mself\u001b[0m\u001b[0;34m.\u001b[0m\u001b[0mname\u001b[0m \u001b[0;34m=\u001b[0m \u001b[0mname\u001b[0m\u001b[0;34m\u001b[0m\u001b[0;34m\u001b[0m\u001b[0m\n",
      "\u001b[0;31mAssertionError\u001b[0m: Argumento points deve ser um número inteiro!"
     ]
    }
   ],
   "source": [
    "# Testando asserts\n",
    "convert_Ana = KudoConversion('Ana', 'Martis')"
   ]
  },
  {
   "cell_type": "code",
   "execution_count": 8,
   "id": "039c5156",
   "metadata": {},
   "outputs": [
    {
     "ename": "AssertionError",
     "evalue": "Argumento log deve ser objeto booleano!",
     "output_type": "error",
     "traceback": [
      "\u001b[0;31m---------------------------------------------------------------------------\u001b[0m",
      "\u001b[0;31mAssertionError\u001b[0m                            Traceback (most recent call last)",
      "\u001b[0;32m/var/folders/xt/qpy7_yjd7_g89yx6hv6669gw0000gn/T/ipykernel_20819/995122026.py\u001b[0m in \u001b[0;36m<module>\u001b[0;34m\u001b[0m\n\u001b[1;32m      1\u001b[0m \u001b[0;31m# Testando asserts\u001b[0m\u001b[0;34m\u001b[0m\u001b[0;34m\u001b[0m\u001b[0m\n\u001b[0;32m----> 2\u001b[0;31m \u001b[0mconvert_Ana\u001b[0m \u001b[0;34m=\u001b[0m \u001b[0mKudoConversion\u001b[0m\u001b[0;34m(\u001b[0m\u001b[0;34m'Ana'\u001b[0m\u001b[0;34m,\u001b[0m \u001b[0;36m355\u001b[0m\u001b[0;34m,\u001b[0m \u001b[0;36m38\u001b[0m\u001b[0;34m)\u001b[0m\u001b[0;34m\u001b[0m\u001b[0;34m\u001b[0m\u001b[0m\n\u001b[0m",
      "\u001b[0;32m/var/folders/xt/qpy7_yjd7_g89yx6hv6669gw0000gn/T/ipykernel_20819/142629085.py\u001b[0m in \u001b[0;36m__init__\u001b[0;34m(self, name, points, log)\u001b[0m\n\u001b[1;32m     28\u001b[0m         \u001b[0;32massert\u001b[0m \u001b[0mtype\u001b[0m\u001b[0;34m(\u001b[0m\u001b[0mname\u001b[0m\u001b[0;34m)\u001b[0m \u001b[0;34m==\u001b[0m \u001b[0mstr\u001b[0m\u001b[0;34m,\u001b[0m \u001b[0;34m'Argumento name deve ser uma string!'\u001b[0m\u001b[0;34m\u001b[0m\u001b[0;34m\u001b[0m\u001b[0m\n\u001b[1;32m     29\u001b[0m         \u001b[0;32massert\u001b[0m \u001b[0mtype\u001b[0m\u001b[0;34m(\u001b[0m\u001b[0mpoints\u001b[0m\u001b[0;34m)\u001b[0m \u001b[0;34m==\u001b[0m \u001b[0mint\u001b[0m\u001b[0;34m,\u001b[0m \u001b[0;34m'Argumento points deve ser um número inteiro!'\u001b[0m\u001b[0;34m\u001b[0m\u001b[0;34m\u001b[0m\u001b[0m\n\u001b[0;32m---> 30\u001b[0;31m         \u001b[0;32massert\u001b[0m \u001b[0mtype\u001b[0m\u001b[0;34m(\u001b[0m\u001b[0mlog\u001b[0m\u001b[0;34m)\u001b[0m \u001b[0;34m==\u001b[0m \u001b[0mbool\u001b[0m\u001b[0;34m,\u001b[0m \u001b[0;34m'Argumento log deve ser objeto booleano!'\u001b[0m\u001b[0;34m\u001b[0m\u001b[0;34m\u001b[0m\u001b[0m\n\u001b[0m\u001b[1;32m     31\u001b[0m         \u001b[0mself\u001b[0m\u001b[0;34m.\u001b[0m\u001b[0mname\u001b[0m \u001b[0;34m=\u001b[0m \u001b[0mname\u001b[0m\u001b[0;34m\u001b[0m\u001b[0;34m\u001b[0m\u001b[0m\n\u001b[1;32m     32\u001b[0m         \u001b[0mself\u001b[0m\u001b[0;34m.\u001b[0m\u001b[0mpoints\u001b[0m \u001b[0;34m=\u001b[0m \u001b[0mpoints\u001b[0m\u001b[0;34m\u001b[0m\u001b[0;34m\u001b[0m\u001b[0m\n",
      "\u001b[0;31mAssertionError\u001b[0m: Argumento log deve ser objeto booleano!"
     ]
    }
   ],
   "source": [
    "# Testando asserts\n",
    "convert_Ana = KudoConversion('Ana', 355, 38)"
   ]
  }
 ],
 "metadata": {
  "kernelspec": {
   "display_name": "Python 3 (ipykernel)",
   "language": "python",
   "name": "python3"
  },
  "language_info": {
   "codemirror_mode": {
    "name": "ipython",
    "version": 3
   },
   "file_extension": ".py",
   "mimetype": "text/x-python",
   "name": "python",
   "nbconvert_exporter": "python",
   "pygments_lexer": "ipython3",
   "version": "3.9.7"
  }
 },
 "nbformat": 4,
 "nbformat_minor": 5
}
